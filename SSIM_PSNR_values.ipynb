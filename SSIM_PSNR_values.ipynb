{
  "nbformat": 4,
  "nbformat_minor": 0,
  "metadata": {
    "colab": {
      "name": "SSIM/PSNR values.ipynb",
      "provenance": [],
      "collapsed_sections": []
    },
    "kernelspec": {
      "name": "python3",
      "display_name": "Python 3"
    },
    "language_info": {
      "name": "python"
    }
  },
  "cells": [
    {
      "cell_type": "code",
      "execution_count": 1,
      "metadata": {
        "colab": {
          "base_uri": "https://localhost:8080/"
        },
        "id": "D8oZ-oWtJpfk",
        "outputId": "8d36dece-0d08-4773-9d45-d22c404c1efc"
      },
      "outputs": [
        {
          "output_type": "stream",
          "name": "stdout",
          "text": [
            "Mounted at /content/gdrive\n"
          ]
        }
      ],
      "source": [
        "from google.colab import drive \n",
        "drive.mount('/content/gdrive')"
      ]
    },
    {
      "cell_type": "markdown",
      "source": [
        "## **PSNR Calculation**"
      ],
      "metadata": {
        "id": "E1876b5XKFFk"
      }
    },
    {
      "cell_type": "code",
      "source": [
        "from math import log10, sqrt\n",
        "import cv2\n",
        "import numpy as np\n",
        "\n",
        "def PSNR(inp, output):\n",
        "\tmse = np.mean((inp - output) ** 2)\n",
        "\tif(mse == 0): # MSE is zero means no noise is present in the signal .\n",
        "\t\t\t\t# Therefore PSNR have no importance.\n",
        "\t\treturn 100\n",
        "\tmax_pixel = 255.0\n",
        "\tpsnr = 20 * log10(max_pixel / sqrt(mse))\n",
        "\treturn psnr\n",
        "\n",
        "def main():\n",
        "\tinp = cv2.imread(\"/content/gdrive/MyDrive/Flash_and_Ambiance/colorization/test_images/img1.png\")\n",
        "\toutput = cv2.imread(\"/content/gdrive/MyDrive/Flash_and_Ambiance/colorization/test_images/img2.png\", 1)\n",
        "\tvalue = PSNR(inp, output)\n",
        "\tprint(f\"PSNR value is {value} dB\")\n",
        "\t\n",
        "if __name__ == \"__main__\":\n",
        "\tmain()\n"
      ],
      "metadata": {
        "colab": {
          "base_uri": "https://localhost:8080/"
        },
        "id": "IIxjlY1XJ_BP",
        "outputId": "603f24de-3d0d-488d-fba3-6e22d93ea2de"
      },
      "execution_count": 2,
      "outputs": [
        {
          "output_type": "stream",
          "name": "stdout",
          "text": [
            "PSNR value is 32.76073718717154 dB\n"
          ]
        }
      ]
    },
    {
      "cell_type": "markdown",
      "source": [
        "## **SSIM Calculation**"
      ],
      "metadata": {
        "id": "PJyYflwwKTG1"
      }
    },
    {
      "cell_type": "code",
      "source": [
        "from skimage import measure\n",
        "import argparse\n",
        "import imutils\n",
        "import cv2\n",
        "import PIL\n",
        "from skimage.metrics import structural_similarity\n",
        "from skimage import metrics\n",
        "import tensorflow as tf\n"
      ],
      "metadata": {
        "id": "VX3TOXDaKeMn"
      },
      "execution_count": null,
      "outputs": []
    },
    {
      "cell_type": "code",
      "source": [
        "im1 = tf.image.decode_image(tf.io.read_file('/content/gdrive/MyDrive/Flash_and_Ambiance/colorization/test_images/img1.png'))\n",
        "im2 = tf.image.decode_image(tf.io.read_file('/content/gdrive/MyDrive/Flash_and_Ambiance/colorization/test_images/img2.png'))\n",
        "tf.shape(im1)  \n",
        "tf.shape(im2) \n",
        "    # Add an outer batch for each image.\n",
        "im1 = tf.expand_dims(im1, axis=0)\n",
        "im2 = tf.expand_dims(im2, axis=0)\n",
        "    # Compute SSIM over tf.uint8 Tensors.\n",
        "ssim1 = tf.image.ssim(im1, im2, max_val=255, filter_size=11,\n",
        "                          filter_sigma=1.5, k1=0.01, k2=0.03)"
      ],
      "metadata": {
        "id": "YMvFjgybKiKY"
      },
      "execution_count": null,
      "outputs": []
    },
    {
      "cell_type": "code",
      "source": [
        "print(f\"SSIM value is {ssim1} \")"
      ],
      "metadata": {
        "colab": {
          "base_uri": "https://localhost:8080/"
        },
        "id": "9t3Dtm5LKxwm",
        "outputId": "4fbc1384-73cc-44ca-9aeb-7c2f7715c1a3"
      },
      "execution_count": null,
      "outputs": [
        {
          "output_type": "stream",
          "name": "stdout",
          "text": [
            "SSIM value is [0.9226226] \n"
          ]
        }
      ]
    },
    {
      "cell_type": "code",
      "source": [
        "pip install SSIM-PIL\n"
      ],
      "metadata": {
        "colab": {
          "base_uri": "https://localhost:8080/"
        },
        "id": "kNYeuvZhLBPP",
        "outputId": "2a8418ba-b59b-4dc4-c5ab-686602bb40e0"
      },
      "execution_count": null,
      "outputs": [
        {
          "output_type": "stream",
          "name": "stdout",
          "text": [
            "Collecting SSIM-PIL\n",
            "  Downloading SSIM_PIL-1.0.13-py3-none-any.whl (8.4 kB)\n",
            "Installing collected packages: SSIM-PIL\n",
            "Successfully installed SSIM-PIL-1.0.13\n"
          ]
        }
      ]
    },
    {
      "cell_type": "code",
      "source": [
        "from SSIM_PIL import compare_ssim\n",
        "from PIL import Image\n",
        "\n",
        "image1 = Image.open('/content/gdrive/MyDrive/Flash_and_Ambiance/colorization/test_images/img1.png')\n",
        "image2 = Image.open('/content/gdrive/MyDrive/Flash_and_Ambiance/colorization/test_images/img2.png')\n",
        "value = compare_ssim(image1, image2) # Compare images using OpenCL by default\n",
        "print(f\"SSIM value is {value} \")"
      ],
      "metadata": {
        "colab": {
          "base_uri": "https://localhost:8080/"
        },
        "id": "KgAQpoU3K2ed",
        "outputId": "4a1e9280-47fa-4e50-925f-a4bee7c61ec5"
      },
      "execution_count": null,
      "outputs": [
        {
          "output_type": "stream",
          "name": "stdout",
          "text": [
            "No module named 'pyopencl'\n",
            "SSIM value is 0.9306757216811586 \n"
          ]
        }
      ]
    }
  ]
}