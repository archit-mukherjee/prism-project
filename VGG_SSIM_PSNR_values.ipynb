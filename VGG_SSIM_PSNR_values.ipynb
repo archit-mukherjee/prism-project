{
 "cells": [
  {
   "cell_type": "markdown",
   "metadata": {
    "id": "E1876b5XKFFk"
   },
   "source": [
    "## **PSNR Calculation**"
   ]
  },
  {
   "cell_type": "code",
   "execution_count": 9,
   "metadata": {
    "colab": {
     "base_uri": "https://localhost:8080/"
    },
    "id": "IIxjlY1XJ_BP",
    "outputId": "603f24de-3d0d-488d-fba3-6e22d93ea2de"
   },
   "outputs": [
    {
     "ename": "ValueError",
     "evalue": "operands could not be broadcast together with shapes (1080,1440,3) (369,369,3) ",
     "output_type": "error",
     "traceback": [
      "\u001b[1;31m---------------------------------------------------------------------------\u001b[0m",
      "\u001b[1;31mValueError\u001b[0m                                Traceback (most recent call last)",
      "Cell \u001b[1;32mIn[9], line 21\u001b[0m\n\u001b[0;32m     18\u001b[0m \t\u001b[38;5;28mprint\u001b[39m(\u001b[38;5;124mf\u001b[39m\u001b[38;5;124m\"\u001b[39m\u001b[38;5;124mPSNR value is \u001b[39m\u001b[38;5;132;01m{\u001b[39;00mvalue\u001b[38;5;132;01m}\u001b[39;00m\u001b[38;5;124m dB\u001b[39m\u001b[38;5;124m\"\u001b[39m)\n\u001b[0;32m     20\u001b[0m \u001b[38;5;28;01mif\u001b[39;00m \u001b[38;5;18m__name__\u001b[39m \u001b[38;5;241m==\u001b[39m \u001b[38;5;124m\"\u001b[39m\u001b[38;5;124m__main__\u001b[39m\u001b[38;5;124m\"\u001b[39m:\n\u001b[1;32m---> 21\u001b[0m \t\u001b[43mmain\u001b[49m\u001b[43m(\u001b[49m\u001b[43m)\u001b[49m\n",
      "Cell \u001b[1;32mIn[9], line 17\u001b[0m, in \u001b[0;36mmain\u001b[1;34m()\u001b[0m\n\u001b[0;32m     15\u001b[0m inp \u001b[38;5;241m=\u001b[39m cv2\u001b[38;5;241m.\u001b[39mimread(\u001b[38;5;124m\"\u001b[39m\u001b[38;5;124mC:/Users/archi/Desktop/Images/Ambient/People_001_ambient.png\u001b[39m\u001b[38;5;124m\"\u001b[39m)\n\u001b[0;32m     16\u001b[0m output \u001b[38;5;241m=\u001b[39m cv2\u001b[38;5;241m.\u001b[39mimread(\u001b[38;5;124m\"\u001b[39m\u001b[38;5;124mC:/Users/archi/Desktop/Images/Output/Output_0.png\u001b[39m\u001b[38;5;124m\"\u001b[39m, \u001b[38;5;241m1\u001b[39m)\n\u001b[1;32m---> 17\u001b[0m value \u001b[38;5;241m=\u001b[39m \u001b[43mPSNR\u001b[49m\u001b[43m(\u001b[49m\u001b[43minp\u001b[49m\u001b[43m,\u001b[49m\u001b[43m \u001b[49m\u001b[43moutput\u001b[49m\u001b[43m)\u001b[49m\n\u001b[0;32m     18\u001b[0m \u001b[38;5;28mprint\u001b[39m(\u001b[38;5;124mf\u001b[39m\u001b[38;5;124m\"\u001b[39m\u001b[38;5;124mPSNR value is \u001b[39m\u001b[38;5;132;01m{\u001b[39;00mvalue\u001b[38;5;132;01m}\u001b[39;00m\u001b[38;5;124m dB\u001b[39m\u001b[38;5;124m\"\u001b[39m)\n",
      "Cell \u001b[1;32mIn[9], line 6\u001b[0m, in \u001b[0;36mPSNR\u001b[1;34m(inp, output)\u001b[0m\n\u001b[0;32m      5\u001b[0m \u001b[38;5;28;01mdef\u001b[39;00m \u001b[38;5;21mPSNR\u001b[39m(inp, output):\n\u001b[1;32m----> 6\u001b[0m \tmse \u001b[38;5;241m=\u001b[39m np\u001b[38;5;241m.\u001b[39mmean((\u001b[43minp\u001b[49m\u001b[43m \u001b[49m\u001b[38;5;241;43m-\u001b[39;49m\u001b[43m \u001b[49m\u001b[43moutput\u001b[49m) \u001b[38;5;241m*\u001b[39m\u001b[38;5;241m*\u001b[39m \u001b[38;5;241m2\u001b[39m)\n\u001b[0;32m      7\u001b[0m \t\u001b[38;5;28;01mif\u001b[39;00m(mse \u001b[38;5;241m==\u001b[39m \u001b[38;5;241m0\u001b[39m): \u001b[38;5;66;03m# MSE is zero means no noise is present in the signal .\u001b[39;00m\n\u001b[0;32m      8\u001b[0m \t\t\t\t\u001b[38;5;66;03m# Therefore PSNR have no importance.\u001b[39;00m\n\u001b[0;32m      9\u001b[0m \t\t\u001b[38;5;28;01mreturn\u001b[39;00m \u001b[38;5;241m100\u001b[39m\n",
      "\u001b[1;31mValueError\u001b[0m: operands could not be broadcast together with shapes (1080,1440,3) (369,369,3) "
     ]
    }
   ],
   "source": [
    "from math import log10, sqrt\n",
    "import cv2\n",
    "import numpy as np\n",
    "\n",
    "def PSNR(inp, output):\n",
    "\tmse = np.mean((inp - output) ** 2)\n",
    "\tif(mse == 0): # MSE is zero means no noise is present in the signal .\n",
    "\t\t\t\t# Therefore PSNR have no importance.\n",
    "\t\treturn 100\n",
    "\tmax_pixel = 255.0\n",
    "\tpsnr = 20 * log10(max_pixel / sqrt(mse))\n",
    "\treturn psnr\n",
    "\n",
    "def main():\n",
    "\tinp = cv2.imread(\"C:/Users/archi/Desktop/Images/Ambient/People_001_ambient.png\")\n",
    "\toutput = cv2.imread(\"C:/Users/archi/Desktop/Images/Output/Output_0.png\", 1)\n",
    "\tvalue = PSNR(inp, output)\n",
    "\tprint(f\"PSNR value is {value} dB\")\n",
    "\t\n",
    "if __name__ == \"__main__\":\n",
    "\tmain()\n"
   ]
  },
  {
   "cell_type": "markdown",
   "metadata": {
    "id": "PJyYflwwKTG1"
   },
   "source": [
    "## **SSIM Calculation**"
   ]
  },
  {
   "cell_type": "code",
   "execution_count": null,
   "metadata": {
    "id": "VX3TOXDaKeMn"
   },
   "outputs": [],
   "source": [
    "from skimage import measure\n",
    "import argparse\n",
    "import imutils\n",
    "import cv2\n",
    "import PIL\n",
    "from skimage.metrics import structural_similarity\n",
    "from skimage import metrics\n",
    "import tensorflow as tf\n"
   ]
  },
  {
   "cell_type": "code",
   "execution_count": null,
   "metadata": {
    "id": "YMvFjgybKiKY"
   },
   "outputs": [],
   "source": [
    "im1 = tf.image.decode_image(tf.io.read_file('/content/gdrive/MyDrive/Flash_and_Ambiance/colorization/test_images/img1.png'))\n",
    "im2 = tf.image.decode_image(tf.io.read_file('/content/gdrive/MyDrive/Flash_and_Ambiance/colorization/test_images/img2.png'))\n",
    "tf.shape(im1)  \n",
    "tf.shape(im2) \n",
    "    # Add an outer batch for each image.\n",
    "im1 = tf.expand_dims(im1, axis=0)\n",
    "im2 = tf.expand_dims(im2, axis=0)\n",
    "    # Compute SSIM over tf.uint8 Tensors.\n",
    "ssim1 = tf.image.ssim(im1, im2, max_val=255, filter_size=11,\n",
    "                          filter_sigma=1.5, k1=0.01, k2=0.03)"
   ]
  },
  {
   "cell_type": "code",
   "execution_count": null,
   "metadata": {
    "colab": {
     "base_uri": "https://localhost:8080/"
    },
    "id": "9t3Dtm5LKxwm",
    "outputId": "4fbc1384-73cc-44ca-9aeb-7c2f7715c1a3"
   },
   "outputs": [
    {
     "name": "stdout",
     "output_type": "stream",
     "text": [
      "SSIM value is [0.9226226] \n"
     ]
    }
   ],
   "source": [
    "print(f\"SSIM value is {ssim1} \")"
   ]
  },
  {
   "cell_type": "code",
   "execution_count": null,
   "metadata": {
    "colab": {
     "base_uri": "https://localhost:8080/"
    },
    "id": "kNYeuvZhLBPP",
    "outputId": "2a8418ba-b59b-4dc4-c5ab-686602bb40e0"
   },
   "outputs": [
    {
     "name": "stdout",
     "output_type": "stream",
     "text": [
      "Collecting SSIM-PIL\n",
      "  Downloading SSIM_PIL-1.0.13-py3-none-any.whl (8.4 kB)\n",
      "Installing collected packages: SSIM-PIL\n",
      "Successfully installed SSIM-PIL-1.0.13\n"
     ]
    }
   ],
   "source": [
    "pip install SSIM-PIL\n"
   ]
  },
  {
   "cell_type": "code",
   "execution_count": null,
   "metadata": {
    "colab": {
     "base_uri": "https://localhost:8080/"
    },
    "id": "KgAQpoU3K2ed",
    "outputId": "4a1e9280-47fa-4e50-925f-a4bee7c61ec5"
   },
   "outputs": [
    {
     "name": "stdout",
     "output_type": "stream",
     "text": [
      "No module named 'pyopencl'\n",
      "SSIM value is 0.9306757216811586 \n"
     ]
    }
   ],
   "source": [
    "from SSIM_PIL import compare_ssim\n",
    "from PIL import Image\n",
    "\n",
    "image1 = Image.open('/content/gdrive/MyDrive/Flash_and_Ambiance/colorization/test_images/img1.png')\n",
    "image2 = Image.open('/content/gdrive/MyDrive/Flash_and_Ambiance/colorization/test_images/img2.png')\n",
    "value = compare_ssim(image1, image2) # Compare images using OpenCL by default\n",
    "print(f\"SSIM value is {value} \")"
   ]
  },
  {
   "cell_type": "markdown",
   "metadata": {},
   "source": [
    "# PSNR and SSIM"
   ]
  },
  {
   "cell_type": "code",
   "execution_count": 13,
   "metadata": {},
   "outputs": [
    {
     "name": "stdout",
     "output_type": "stream",
     "text": [
      "PSNR: 28.57958481193972\n",
      "SSIM: 0.5708343294460696\n"
     ]
    }
   ],
   "source": [
    "import cv2\n",
    "import numpy as np\n",
    "from skimage.metrics import structural_similarity as ssim\n",
    "\n",
    "# Load the image\n",
    "original_image = cv2.imread('C:/Users/archi/Desktop/Images/Ambient/People_001_ambient.png')\n",
    "\n",
    "# Convert the image to a NumPy array\n",
    "original_image_array = np.array(original_image)\n",
    "\n",
    "# Calculate the mean squared error between the original image and the distorted image\n",
    "distorted_image = cv2.imread('C:/Users/archi/Desktop/Images/Output/Output_0.png')\n",
    "distorted_image_array = np.array(distorted_image)\n",
    "m,n,l = distorted_image_array.shape\n",
    "original_image_array = cv2.resize(original_image_array, (m,n))\n",
    "mse = np.mean((original_image_array - distorted_image_array)**2)\n",
    "\n",
    "# Calculate the peak signal-to-noise ratio from the MSE\n",
    "psnr = 10 * np.log10(255**2 / mse)\n",
    "\n",
    "# Calculate the structural similarity index from the original image and the distorted image\n",
    "grayA = cv2.cvtColor(original_image_array, cv2.COLOR_BGR2GRAY)\n",
    "grayB = cv2.cvtColor(distorted_image_array, cv2.COLOR_BGR2GRAY)\n",
    "(ssim, _) = ssim(grayA, grayB, full=True)\n",
    "\n",
    "print('PSNR:', psnr)\n",
    "print('SSIM:', ssim)"
   ]
  },
  {
   "cell_type": "code",
   "execution_count": 17,
   "metadata": {},
   "outputs": [],
   "source": [
    "def load_images(path, size=(256,256)):\n",
    "    amb_list, gen_list = list(), list()\n",
    "    gen_path = path + \"Output/\"\n",
    "    amb_path = path + \"Ambient/\"\n",
    "    gen_filenames = sorted(list(set(listdir(gen_path)) - {'desktop.ini', 'whatever.ini'}), key=str.lower)\n",
    "    amb_filenames = sorted(list(set(listdir(amb_path)) - {'desktop.ini', 'whatever.ini'}), key=str.lower)\n",
    "    #print(src_filenames)\n",
    "    #print(tar_filenames)\n",
    "    for filename in gen_filenames:\n",
    "        \n",
    "        pixels = load_img(gen_path + filename, target_size=size)\n",
    "        pixels = img_to_array(pixels)\n",
    "        gen_list.append(pixels)\n",
    "    for filename in amb_filenames:\n",
    "        pixels = load_img(amb_path + filename, target_size=size)\n",
    "        pixels = img_to_array(pixels)\n",
    "        amb_list.append(pixels)\n",
    "    \n",
    "    return [asarray(gen_list), asarray(amb_list)]"
   ]
  },
  {
   "cell_type": "code",
   "execution_count": 44,
   "metadata": {},
   "outputs": [
    {
     "name": "stdout",
     "output_type": "stream",
     "text": [
      "Loaded:  (333, 256, 256, 3) (333, 256, 256, 3)\n",
      "PSNR: 9.262696808980095\n",
      "SSIM: 0.2360729727500718\n"
     ]
    }
   ],
   "source": [
    "import cv2\n",
    "import numpy as np\n",
    "from skimage.metrics import structural_similarity as calculate_ssim\n",
    "from os import listdir\n",
    "from tensorflow.keras.utils import load_img\n",
    "from tensorflow.keras.utils import img_to_array\n",
    "from numpy import asarray, load\n",
    "\n",
    "psnr,ssim = 0,0\n",
    "path = \"C:/Users/archi/Desktop/Images/\"\n",
    "[gen_images, amb_images] = load_images(path, size=(256,256))\n",
    "print('Loaded: ', gen_images.shape, amb_images.shape)\n",
    "\n",
    "ambient_image_array = np.array(amb_images)\n",
    "generated_image_array = np.array(gen_images)\n",
    "mse, psnr, ssim = list(), list(), list()\n",
    "\n",
    "for i in range(0,len(gen_images)):\n",
    "    original_image_array = ambient_image_array[i]\n",
    "    distorted_image_array = generated_image_array[i]\n",
    "    mse.append(np.mean((original_image_array - distorted_image_array)**2))\n",
    "    psnr.append(10 * np.log10(255**2 / mse[i]))\n",
    "    grayA = (cv2.cvtColor(original_image_array, cv2.COLOR_BGR2GRAY)).astype(np.uint8)\n",
    "    grayB = (cv2.cvtColor(distorted_image_array, cv2.COLOR_BGR2GRAY)).astype(np.uint8)\n",
    "    (ssim_temp, _) = calculate_ssim( grayA , grayB, full=True)\n",
    "    ssim.append(ssim_temp)\n",
    "psnr = np.mean(psnr)\n",
    "ssim = np.mean(ssim)\n",
    "print('PSNR:', psnr)\n",
    "print('SSIM:', ssim)"
   ]
  },
  {
   "cell_type": "code",
   "execution_count": 45,
   "metadata": {
    "scrolled": true
   },
   "outputs": [
    {
     "data": {
      "text/plain": [
       "9.262696808980095"
      ]
     },
     "execution_count": 45,
     "metadata": {},
     "output_type": "execute_result"
    }
   ],
   "source": [
    "psnr"
   ]
  },
  {
   "cell_type": "code",
   "execution_count": 46,
   "metadata": {},
   "outputs": [
    {
     "data": {
      "text/plain": [
       "0.2360729727500718"
      ]
     },
     "execution_count": 46,
     "metadata": {},
     "output_type": "execute_result"
    }
   ],
   "source": [
    "ssim"
   ]
  },
  {
   "cell_type": "code",
   "execution_count": null,
   "metadata": {},
   "outputs": [],
   "source": []
  }
 ],
 "metadata": {
  "colab": {
   "collapsed_sections": [],
   "name": "SSIM/PSNR values.ipynb",
   "provenance": []
  },
  "kernelspec": {
   "display_name": "Python 3 (ipykernel)",
   "language": "python",
   "name": "python3"
  },
  "language_info": {
   "codemirror_mode": {
    "name": "ipython",
    "version": 3
   },
   "file_extension": ".py",
   "mimetype": "text/x-python",
   "name": "python",
   "nbconvert_exporter": "python",
   "pygments_lexer": "ipython3",
   "version": "3.10.11"
  }
 },
 "nbformat": 4,
 "nbformat_minor": 1
}
